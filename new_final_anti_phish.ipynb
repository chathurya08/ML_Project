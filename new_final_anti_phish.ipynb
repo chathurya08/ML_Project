{
 "cells": [
  {
   "cell_type": "code",
   "execution_count": 1,
   "metadata": {},
   "outputs": [],
   "source": [
    "import pandas as pd  # It is used for data manipulation and analysis.\n",
    "import numpy as np  # Used for multi-dimensional array and matrices.\n",
    "\n",
    "from sklearn.linear_model import LogisticRegression \n",
    "from sklearn.naive_bayes import MultinomialNB \n",
    "\n",
    "import seaborn as sns  # Used for high-level interfaces and to to draw informative statistical graphics.\n",
    "import matplotlib.pyplot as plt  # It provides an object-oriented API for embedding plots into applications\n",
    "%matplotlib inline  \n",
    "# It is used to set the backend of matplotlib to the 'inline' backend:\n",
    "import time  # For calculating time \n",
    "\n",
    "# Set of Basic modules used for the 'Data Preprocessing'.\n",
    "\n",
    "from sklearn.model_selection import train_test_split\n",
    "from sklearn.metrics import classification_report \n",
    "from sklearn.metrics import confusion_matrix \n",
    "from nltk.tokenize import RegexpTokenizer \n",
    "from nltk.stem.snowball import SnowballStemmer\n",
    "from sklearn.feature_extraction.text import CountVectorizer \n",
    "from sklearn.pipeline import make_pipeline "
   ]
  },
  {
   "cell_type": "code",
   "execution_count": 2,
   "metadata": {},
   "outputs": [],
   "source": [
    "# Read the data from CSV file\n",
    "# https://archive.ics.uci.edu/ml/datasets/phishing+websites\n",
    "learn_data = pd.read_csv('phishing_urls_db.csv')"
   ]
  },
  {
   "cell_type": "code",
   "execution_count": 3,
   "metadata": {},
   "outputs": [
    {
     "data": {
      "text/html": [
       "<div>\n",
       "<style scoped>\n",
       "    .dataframe tbody tr th:only-of-type {\n",
       "        vertical-align: middle;\n",
       "    }\n",
       "\n",
       "    .dataframe tbody tr th {\n",
       "        vertical-align: top;\n",
       "    }\n",
       "\n",
       "    .dataframe thead th {\n",
       "        text-align: right;\n",
       "    }\n",
       "</style>\n",
       "<table border=\"1\" class=\"dataframe\">\n",
       "  <thead>\n",
       "    <tr style=\"text-align: right;\">\n",
       "      <th></th>\n",
       "      <th>URL</th>\n",
       "      <th>Label</th>\n",
       "    </tr>\n",
       "  </thead>\n",
       "  <tbody>\n",
       "    <tr>\n",
       "      <th>549341</th>\n",
       "      <td>23.227.196.215/</td>\n",
       "      <td>bad</td>\n",
       "    </tr>\n",
       "    <tr>\n",
       "      <th>549342</th>\n",
       "      <td>apple-checker.org/</td>\n",
       "      <td>bad</td>\n",
       "    </tr>\n",
       "    <tr>\n",
       "      <th>549343</th>\n",
       "      <td>apple-iclods.org/</td>\n",
       "      <td>bad</td>\n",
       "    </tr>\n",
       "    <tr>\n",
       "      <th>549344</th>\n",
       "      <td>apple-uptoday.org/</td>\n",
       "      <td>bad</td>\n",
       "    </tr>\n",
       "    <tr>\n",
       "      <th>549345</th>\n",
       "      <td>apple-search.info</td>\n",
       "      <td>bad</td>\n",
       "    </tr>\n",
       "  </tbody>\n",
       "</table>\n",
       "</div>"
      ],
      "text/plain": [
       "                       URL Label\n",
       "549341     23.227.196.215/   bad\n",
       "549342  apple-checker.org/   bad\n",
       "549343   apple-iclods.org/   bad\n",
       "549344  apple-uptoday.org/   bad\n",
       "549345   apple-search.info   bad"
      ]
     },
     "execution_count": 3,
     "metadata": {},
     "output_type": "execute_result"
    }
   ],
   "source": [
    "# View the first 5 rows of the data\n",
    "learn_data.head()\n",
    "\n",
    "# View the last 5 rows of the data\n",
    "learn_data.tail()\n",
    "\n",
    "# Get information about the data\n",
    "#learn_data.info()"
   ]
  },
  {
   "cell_type": "code",
   "execution_count": 4,
   "metadata": {},
   "outputs": [
    {
     "data": {
      "text/plain": [
       "URL      0\n",
       "Label    0\n",
       "dtype: int64"
      ]
     },
     "execution_count": 4,
     "metadata": {},
     "output_type": "execute_result"
    }
   ],
   "source": [
    "# It is important to check if there are any missing values in dataset.\n",
    "\n",
    "learn_data.isnull().sum()"
   ]
  },
  {
   "cell_type": "code",
   "execution_count": 5,
   "metadata": {},
   "outputs": [],
   "source": [
    "# Let's start the pre processing of our data."
   ]
  },
  {
   "cell_type": "code",
   "execution_count": 6,
   "metadata": {},
   "outputs": [
    {
     "name": "stdout",
     "output_type": "stream",
     "text": [
      "Time taken:  3.6123252001125365 seconds\n"
     ]
    }
   ],
   "source": [
    "# Tokenize the URL column\n",
    "# Reference taken from https://github.com/shreyagopal/Phishing-Website-Detection-by-Machine-Learning-Techniques/tree/master/DataFiles\n",
    "tokenization = RegexpTokenizer(r'[A-Za-z]+')\n",
    "learn_data.URL[1]\n",
    "tokenization.tokenize(learn_data.URL[1]) \n",
    "t0= time.perf_counter()\n",
    "learn_data['The_text_being_tokenized'] = learn_data.URL.map(lambda t: tokenization.tokenize(t)) # This will do it with all rows.\n",
    "t1 = time.perf_counter() - t0\n",
    "print('Time taken: ',t1 ,'seconds')"
   ]
  },
  {
   "cell_type": "code",
   "execution_count": 7,
   "metadata": {},
   "outputs": [
    {
     "data": {
      "text/html": [
       "<div>\n",
       "<style scoped>\n",
       "    .dataframe tbody tr th:only-of-type {\n",
       "        vertical-align: middle;\n",
       "    }\n",
       "\n",
       "    .dataframe tbody tr th {\n",
       "        vertical-align: top;\n",
       "    }\n",
       "\n",
       "    .dataframe thead th {\n",
       "        text-align: right;\n",
       "    }\n",
       "</style>\n",
       "<table border=\"1\" class=\"dataframe\">\n",
       "  <thead>\n",
       "    <tr style=\"text-align: right;\">\n",
       "      <th></th>\n",
       "      <th>URL</th>\n",
       "      <th>Label</th>\n",
       "      <th>The_text_being_tokenized</th>\n",
       "    </tr>\n",
       "  </thead>\n",
       "  <tbody>\n",
       "    <tr>\n",
       "      <th>387316</th>\n",
       "      <td>merchantcircle.com/business/Mountaineer.Power....</td>\n",
       "      <td>good</td>\n",
       "      <td>[merchantcircle, com, business, Mountaineer, P...</td>\n",
       "    </tr>\n",
       "    <tr>\n",
       "      <th>149076</th>\n",
       "      <td>biblioteca.universia.net/html_bura/ficha/param...</td>\n",
       "      <td>good</td>\n",
       "      <td>[biblioteca, universia, net, html, bura, ficha...</td>\n",
       "    </tr>\n",
       "    <tr>\n",
       "      <th>426337</th>\n",
       "      <td>rutalee.com/biography.html</td>\n",
       "      <td>good</td>\n",
       "      <td>[rutalee, com, biography, html]</td>\n",
       "    </tr>\n",
       "    <tr>\n",
       "      <th>393890</th>\n",
       "      <td>mtv.com/news/articles/1654446/diddydirty-money...</td>\n",
       "      <td>good</td>\n",
       "      <td>[mtv, com, news, articles, diddydirty, money, ...</td>\n",
       "    </tr>\n",
       "    <tr>\n",
       "      <th>429601</th>\n",
       "      <td>setlist.fm/setlists/vermillion-lies-2bd7a03a.html</td>\n",
       "      <td>good</td>\n",
       "      <td>[setlist, fm, setlists, vermillion, lies, bd, ...</td>\n",
       "    </tr>\n",
       "    <tr>\n",
       "      <th>288946</th>\n",
       "      <td>baseballprospectus.com/chat/chat.php?chatId=437</td>\n",
       "      <td>good</td>\n",
       "      <td>[baseballprospectus, com, chat, chat, php, cha...</td>\n",
       "    </tr>\n",
       "    <tr>\n",
       "      <th>376624</th>\n",
       "      <td>linkedin.com/pub/dir/jeff/cornell</td>\n",
       "      <td>good</td>\n",
       "      <td>[linkedin, com, pub, dir, jeff, cornell]</td>\n",
       "    </tr>\n",
       "    <tr>\n",
       "      <th>468888</th>\n",
       "      <td>yellowpages.com/jacksonville-beach-fl/mip/rhod...</td>\n",
       "      <td>good</td>\n",
       "      <td>[yellowpages, com, jacksonville, beach, fl, mi...</td>\n",
       "    </tr>\n",
       "    <tr>\n",
       "      <th>154055</th>\n",
       "      <td>buzzntrends.com/meaghan+rath</td>\n",
       "      <td>good</td>\n",
       "      <td>[buzzntrends, com, meaghan, rath]</td>\n",
       "    </tr>\n",
       "    <tr>\n",
       "      <th>220209</th>\n",
       "      <td>nbcuni-internationalcareers.com/faqs/</td>\n",
       "      <td>good</td>\n",
       "      <td>[nbcuni, internationalcareers, com, faqs]</td>\n",
       "    </tr>\n",
       "  </tbody>\n",
       "</table>\n",
       "</div>"
      ],
      "text/plain": [
       "                                                      URL Label  \\\n",
       "387316  merchantcircle.com/business/Mountaineer.Power....  good   \n",
       "149076  biblioteca.universia.net/html_bura/ficha/param...  good   \n",
       "426337                         rutalee.com/biography.html  good   \n",
       "393890  mtv.com/news/articles/1654446/diddydirty-money...  good   \n",
       "429601  setlist.fm/setlists/vermillion-lies-2bd7a03a.html  good   \n",
       "288946    baseballprospectus.com/chat/chat.php?chatId=437  good   \n",
       "376624                  linkedin.com/pub/dir/jeff/cornell  good   \n",
       "468888  yellowpages.com/jacksonville-beach-fl/mip/rhod...  good   \n",
       "154055                       buzzntrends.com/meaghan+rath  good   \n",
       "220209              nbcuni-internationalcareers.com/faqs/  good   \n",
       "\n",
       "                                 The_text_being_tokenized  \n",
       "387316  [merchantcircle, com, business, Mountaineer, P...  \n",
       "149076  [biblioteca, universia, net, html, bura, ficha...  \n",
       "426337                    [rutalee, com, biography, html]  \n",
       "393890  [mtv, com, news, articles, diddydirty, money, ...  \n",
       "429601  [setlist, fm, setlists, vermillion, lies, bd, ...  \n",
       "288946  [baseballprospectus, com, chat, chat, php, cha...  \n",
       "376624           [linkedin, com, pub, dir, jeff, cornell]  \n",
       "468888  [yellowpages, com, jacksonville, beach, fl, mi...  \n",
       "154055                  [buzzntrends, com, meaghan, rath]  \n",
       "220209          [nbcuni, internationalcareers, com, faqs]  "
      ]
     },
     "execution_count": 7,
     "metadata": {},
     "output_type": "execute_result"
    }
   ],
   "source": [
    "# View a sample of the data after tokenization\n",
    "learn_data.sample(10)"
   ]
  },
  {
   "cell_type": "code",
   "execution_count": 8,
   "metadata": {},
   "outputs": [
    {
     "name": "stdout",
     "output_type": "stream",
     "text": [
      "Stemming started ...\n",
      "Time taken:  60.69314959994517 seconds\n"
     ]
    }
   ],
   "source": [
    "# Stem the tokenized text using SnowballStemmer \n",
    "# Reference taken from https://github.com/taruntiwarihp/Projects_DS/tree/master/Phishing%20Site%20URLs%20Prediction\n",
    "stemmed = SnowballStemmer(\"english\") \n",
    "print('Stemming started ...')\n",
    "t0= time.perf_counter()\n",
    "learn_data['The_text_Stemmed'] = learn_data['The_text_being_tokenized'].map(lambda l: [stemmed.stem(word) for word in l])\n",
    "t1= time.perf_counter() - t0\n",
    "print('Time taken: ',t1 ,'seconds')"
   ]
  },
  {
   "cell_type": "code",
   "execution_count": 9,
   "metadata": {},
   "outputs": [
    {
     "data": {
      "text/html": [
       "<div>\n",
       "<style scoped>\n",
       "    .dataframe tbody tr th:only-of-type {\n",
       "        vertical-align: middle;\n",
       "    }\n",
       "\n",
       "    .dataframe tbody tr th {\n",
       "        vertical-align: top;\n",
       "    }\n",
       "\n",
       "    .dataframe thead th {\n",
       "        text-align: right;\n",
       "    }\n",
       "</style>\n",
       "<table border=\"1\" class=\"dataframe\">\n",
       "  <thead>\n",
       "    <tr style=\"text-align: right;\">\n",
       "      <th></th>\n",
       "      <th>URL</th>\n",
       "      <th>Label</th>\n",
       "      <th>The_text_being_tokenized</th>\n",
       "      <th>The_text_Stemmed</th>\n",
       "    </tr>\n",
       "  </thead>\n",
       "  <tbody>\n",
       "    <tr>\n",
       "      <th>308548</th>\n",
       "      <td>conceptcarz.com/vehicle/z1414/Chevrolet-Cavali...</td>\n",
       "      <td>good</td>\n",
       "      <td>[conceptcarz, com, vehicle, z, Chevrolet, Cava...</td>\n",
       "      <td>[conceptcarz, com, vehicl, z, chevrolet, caval...</td>\n",
       "    </tr>\n",
       "    <tr>\n",
       "      <th>156484</th>\n",
       "      <td>carpricescanada.com/prov_dealers.php?PROV=Quebec</td>\n",
       "      <td>good</td>\n",
       "      <td>[carpricescanada, com, prov, dealers, php, PRO...</td>\n",
       "      <td>[carpricescanada, com, prov, dealer, php, prov...</td>\n",
       "    </tr>\n",
       "    <tr>\n",
       "      <th>224148</th>\n",
       "      <td>openlibrary.org/authors/OL465130A/John_Dickson...</td>\n",
       "      <td>good</td>\n",
       "      <td>[openlibrary, org, authors, OL, A, John, Dicks...</td>\n",
       "      <td>[openlibrari, org, author, ol, a, john, dickso...</td>\n",
       "    </tr>\n",
       "    <tr>\n",
       "      <th>324781</th>\n",
       "      <td>examiner.com/entertainment-reviews-in-national...</td>\n",
       "      <td>good</td>\n",
       "      <td>[examiner, com, entertainment, reviews, in, na...</td>\n",
       "      <td>[examin, com, entertain, review, in, nation, j...</td>\n",
       "    </tr>\n",
       "    <tr>\n",
       "      <th>477555</th>\n",
       "      <td>youtube.com/watch?v=pUwQ8YFZYp0</td>\n",
       "      <td>good</td>\n",
       "      <td>[youtube, com, watch, v, pUwQ, YFZYp]</td>\n",
       "      <td>[youtub, com, watch, v, puwq, yfzyp]</td>\n",
       "    </tr>\n",
       "    <tr>\n",
       "      <th>238283</th>\n",
       "      <td>server.theadvocates.org/celebrities/mancow-mul...</td>\n",
       "      <td>good</td>\n",
       "      <td>[server, theadvocates, org, celebrities, manco...</td>\n",
       "      <td>[server, theadvoc, org, celebr, mancow, muller...</td>\n",
       "    </tr>\n",
       "    <tr>\n",
       "      <th>197450</th>\n",
       "      <td>home.cc.umanitoba.ca/~wyatt/rp/filmography.html</td>\n",
       "      <td>good</td>\n",
       "      <td>[home, cc, umanitoba, ca, wyatt, rp, filmograp...</td>\n",
       "      <td>[home, cc, umanitoba, ca, wyatt, rp, filmograp...</td>\n",
       "    </tr>\n",
       "    <tr>\n",
       "      <th>354778</th>\n",
       "      <td>hotfrog.com.au/Companies/Vern-Barnet-School-Fo...</td>\n",
       "      <td>good</td>\n",
       "      <td>[hotfrog, com, au, Companies, Vern, Barnet, Sc...</td>\n",
       "      <td>[hotfrog, com, au, compani, vern, barnet, scho...</td>\n",
       "    </tr>\n",
       "    <tr>\n",
       "      <th>291302</th>\n",
       "      <td>bikudo.com/archives/2006/aug/112.html</td>\n",
       "      <td>good</td>\n",
       "      <td>[bikudo, com, archives, aug, html]</td>\n",
       "      <td>[bikudo, com, archiv, aug, html]</td>\n",
       "    </tr>\n",
       "    <tr>\n",
       "      <th>189483</th>\n",
       "      <td>forum.urduworld.com/f999/javed-akhtar-206277/</td>\n",
       "      <td>good</td>\n",
       "      <td>[forum, urduworld, com, f, javed, akhtar]</td>\n",
       "      <td>[forum, urduworld, com, f, jave, akhtar]</td>\n",
       "    </tr>\n",
       "  </tbody>\n",
       "</table>\n",
       "</div>"
      ],
      "text/plain": [
       "                                                      URL Label  \\\n",
       "308548  conceptcarz.com/vehicle/z1414/Chevrolet-Cavali...  good   \n",
       "156484   carpricescanada.com/prov_dealers.php?PROV=Quebec  good   \n",
       "224148  openlibrary.org/authors/OL465130A/John_Dickson...  good   \n",
       "324781  examiner.com/entertainment-reviews-in-national...  good   \n",
       "477555                    youtube.com/watch?v=pUwQ8YFZYp0  good   \n",
       "238283  server.theadvocates.org/celebrities/mancow-mul...  good   \n",
       "197450    home.cc.umanitoba.ca/~wyatt/rp/filmography.html  good   \n",
       "354778  hotfrog.com.au/Companies/Vern-Barnet-School-Fo...  good   \n",
       "291302              bikudo.com/archives/2006/aug/112.html  good   \n",
       "189483      forum.urduworld.com/f999/javed-akhtar-206277/  good   \n",
       "\n",
       "                                 The_text_being_tokenized  \\\n",
       "308548  [conceptcarz, com, vehicle, z, Chevrolet, Cava...   \n",
       "156484  [carpricescanada, com, prov, dealers, php, PRO...   \n",
       "224148  [openlibrary, org, authors, OL, A, John, Dicks...   \n",
       "324781  [examiner, com, entertainment, reviews, in, na...   \n",
       "477555              [youtube, com, watch, v, pUwQ, YFZYp]   \n",
       "238283  [server, theadvocates, org, celebrities, manco...   \n",
       "197450  [home, cc, umanitoba, ca, wyatt, rp, filmograp...   \n",
       "354778  [hotfrog, com, au, Companies, Vern, Barnet, Sc...   \n",
       "291302                 [bikudo, com, archives, aug, html]   \n",
       "189483          [forum, urduworld, com, f, javed, akhtar]   \n",
       "\n",
       "                                         The_text_Stemmed  \n",
       "308548  [conceptcarz, com, vehicl, z, chevrolet, caval...  \n",
       "156484  [carpricescanada, com, prov, dealer, php, prov...  \n",
       "224148  [openlibrari, org, author, ol, a, john, dickso...  \n",
       "324781  [examin, com, entertain, review, in, nation, j...  \n",
       "477555               [youtub, com, watch, v, puwq, yfzyp]  \n",
       "238283  [server, theadvoc, org, celebr, mancow, muller...  \n",
       "197450  [home, cc, umanitoba, ca, wyatt, rp, filmograp...  \n",
       "354778  [hotfrog, com, au, compani, vern, barnet, scho...  \n",
       "291302                   [bikudo, com, archiv, aug, html]  \n",
       "189483           [forum, urduworld, com, f, jave, akhtar]  "
      ]
     },
     "execution_count": 9,
     "metadata": {},
     "output_type": "execute_result"
    }
   ],
   "source": [
    "# View a sample of the data after stemming\n",
    "learn_data.sample(10)"
   ]
  },
  {
   "cell_type": "code",
   "execution_count": 10,
   "metadata": {},
   "outputs": [
    {
     "name": "stdout",
     "output_type": "stream",
     "text": [
      "Joining all the words\n",
      "Time taken:  0.41021359991282225 seconds\n"
     ]
    }
   ],
   "source": [
    "# Join the stemmed words to form sentences\n",
    "print('Joining all the words')\n",
    "t0= time.perf_counter()\n",
    "learn_data['Text_sent'] = learn_data['The_text_Stemmed'].map(lambda l: ' '.join(l))\n",
    "t1= time.perf_counter() - t0\n",
    "print('Time taken: ',t1 ,'seconds')"
   ]
  },
  {
   "cell_type": "code",
   "execution_count": 11,
   "metadata": {},
   "outputs": [
    {
     "data": {
      "text/html": [
       "<div>\n",
       "<style scoped>\n",
       "    .dataframe tbody tr th:only-of-type {\n",
       "        vertical-align: middle;\n",
       "    }\n",
       "\n",
       "    .dataframe tbody tr th {\n",
       "        vertical-align: top;\n",
       "    }\n",
       "\n",
       "    .dataframe thead th {\n",
       "        text-align: right;\n",
       "    }\n",
       "</style>\n",
       "<table border=\"1\" class=\"dataframe\">\n",
       "  <thead>\n",
       "    <tr style=\"text-align: right;\">\n",
       "      <th></th>\n",
       "      <th>URL</th>\n",
       "      <th>Label</th>\n",
       "      <th>The_text_being_tokenized</th>\n",
       "      <th>The_text_Stemmed</th>\n",
       "      <th>Text_sent</th>\n",
       "    </tr>\n",
       "  </thead>\n",
       "  <tbody>\n",
       "    <tr>\n",
       "      <th>281349</th>\n",
       "      <td>answers.com/topic/william-grey-walter</td>\n",
       "      <td>good</td>\n",
       "      <td>[answers, com, topic, william, grey, walter]</td>\n",
       "      <td>[answer, com, topic, william, grey, walter]</td>\n",
       "      <td>answer com topic william grey walter</td>\n",
       "    </tr>\n",
       "    <tr>\n",
       "      <th>365747</th>\n",
       "      <td>jimgleeson.com/</td>\n",
       "      <td>good</td>\n",
       "      <td>[jimgleeson, com]</td>\n",
       "      <td>[jimgleeson, com]</td>\n",
       "      <td>jimgleeson com</td>\n",
       "    </tr>\n",
       "    <tr>\n",
       "      <th>336836</th>\n",
       "      <td>fifaworldcupsoccernews.com/newzealand/</td>\n",
       "      <td>good</td>\n",
       "      <td>[fifaworldcupsoccernews, com, newzealand]</td>\n",
       "      <td>[fifaworldcupsoccernew, com, newzealand]</td>\n",
       "      <td>fifaworldcupsoccernew com newzealand</td>\n",
       "    </tr>\n",
       "    <tr>\n",
       "      <th>199721</th>\n",
       "      <td>ieee.orbita.ru/aps/Rep07_APS.htm</td>\n",
       "      <td>good</td>\n",
       "      <td>[ieee, orbita, ru, aps, Rep, APS, htm]</td>\n",
       "      <td>[ieee, orbita, ru, ap, rep, ap, htm]</td>\n",
       "      <td>ieee orbita ru ap rep ap htm</td>\n",
       "    </tr>\n",
       "    <tr>\n",
       "      <th>13751</th>\n",
       "      <td>muarb3901.batcave.net/post.php</td>\n",
       "      <td>bad</td>\n",
       "      <td>[muarb, batcave, net, post, php]</td>\n",
       "      <td>[muarb, batcav, net, post, php]</td>\n",
       "      <td>muarb batcav net post php</td>\n",
       "    </tr>\n",
       "    <tr>\n",
       "      <th>327570</th>\n",
       "      <td>facebook.com/jeanmarc.vallee</td>\n",
       "      <td>good</td>\n",
       "      <td>[facebook, com, jeanmarc, vallee]</td>\n",
       "      <td>[facebook, com, jeanmarc, valle]</td>\n",
       "      <td>facebook com jeanmarc valle</td>\n",
       "    </tr>\n",
       "    <tr>\n",
       "      <th>118906</th>\n",
       "      <td>uniformesescolares.com.ec/cli/yes-png/ScreenDr...</td>\n",
       "      <td>bad</td>\n",
       "      <td>[uniformesescolares, com, ec, cli, yes, png, S...</td>\n",
       "      <td>[uniformesescolar, com, ec, cli, yes, png, scr...</td>\n",
       "      <td>uniformesescolar com ec cli yes png screendrop...</td>\n",
       "    </tr>\n",
       "    <tr>\n",
       "      <th>141824</th>\n",
       "      <td>am.blogs.cnn.com/2011/04/18/robert-macneil-tal...</td>\n",
       "      <td>good</td>\n",
       "      <td>[am, blogs, cnn, com, robert, macneil, talks, ...</td>\n",
       "      <td>[am, blog, cnn, com, robert, macneil, talk, ab...</td>\n",
       "      <td>am blog cnn com robert macneil talk about auti...</td>\n",
       "    </tr>\n",
       "    <tr>\n",
       "      <th>439095</th>\n",
       "      <td>sterlingcollege.edu/rhi.html</td>\n",
       "      <td>good</td>\n",
       "      <td>[sterlingcollege, edu, rhi, html]</td>\n",
       "      <td>[sterlingcolleg, edu, rhi, html]</td>\n",
       "      <td>sterlingcolleg edu rhi html</td>\n",
       "    </tr>\n",
       "    <tr>\n",
       "      <th>426714</th>\n",
       "      <td>salarylist.com/company/Port-Of-Oakland-Salary.htm</td>\n",
       "      <td>good</td>\n",
       "      <td>[salarylist, com, company, Port, Of, Oakland, ...</td>\n",
       "      <td>[salarylist, com, compani, port, of, oakland, ...</td>\n",
       "      <td>salarylist com compani port of oakland salari htm</td>\n",
       "    </tr>\n",
       "  </tbody>\n",
       "</table>\n",
       "</div>"
      ],
      "text/plain": [
       "                                                      URL Label  \\\n",
       "281349              answers.com/topic/william-grey-walter  good   \n",
       "365747                                    jimgleeson.com/  good   \n",
       "336836             fifaworldcupsoccernews.com/newzealand/  good   \n",
       "199721                   ieee.orbita.ru/aps/Rep07_APS.htm  good   \n",
       "13751                      muarb3901.batcave.net/post.php   bad   \n",
       "327570                       facebook.com/jeanmarc.vallee  good   \n",
       "118906  uniformesescolares.com.ec/cli/yes-png/ScreenDr...   bad   \n",
       "141824  am.blogs.cnn.com/2011/04/18/robert-macneil-tal...  good   \n",
       "439095                       sterlingcollege.edu/rhi.html  good   \n",
       "426714  salarylist.com/company/Port-Of-Oakland-Salary.htm  good   \n",
       "\n",
       "                                 The_text_being_tokenized  \\\n",
       "281349       [answers, com, topic, william, grey, walter]   \n",
       "365747                                  [jimgleeson, com]   \n",
       "336836          [fifaworldcupsoccernews, com, newzealand]   \n",
       "199721             [ieee, orbita, ru, aps, Rep, APS, htm]   \n",
       "13751                    [muarb, batcave, net, post, php]   \n",
       "327570                  [facebook, com, jeanmarc, vallee]   \n",
       "118906  [uniformesescolares, com, ec, cli, yes, png, S...   \n",
       "141824  [am, blogs, cnn, com, robert, macneil, talks, ...   \n",
       "439095                  [sterlingcollege, edu, rhi, html]   \n",
       "426714  [salarylist, com, company, Port, Of, Oakland, ...   \n",
       "\n",
       "                                         The_text_Stemmed  \\\n",
       "281349        [answer, com, topic, william, grey, walter]   \n",
       "365747                                  [jimgleeson, com]   \n",
       "336836           [fifaworldcupsoccernew, com, newzealand]   \n",
       "199721               [ieee, orbita, ru, ap, rep, ap, htm]   \n",
       "13751                     [muarb, batcav, net, post, php]   \n",
       "327570                   [facebook, com, jeanmarc, valle]   \n",
       "118906  [uniformesescolar, com, ec, cli, yes, png, scr...   \n",
       "141824  [am, blog, cnn, com, robert, macneil, talk, ab...   \n",
       "439095                   [sterlingcolleg, edu, rhi, html]   \n",
       "426714  [salarylist, com, compani, port, of, oakland, ...   \n",
       "\n",
       "                                                Text_sent  \n",
       "281349               answer com topic william grey walter  \n",
       "365747                                     jimgleeson com  \n",
       "336836               fifaworldcupsoccernew com newzealand  \n",
       "199721                       ieee orbita ru ap rep ap htm  \n",
       "13751                           muarb batcav net post php  \n",
       "327570                        facebook com jeanmarc valle  \n",
       "118906  uniformesescolar com ec cli yes png screendrop...  \n",
       "141824  am blog cnn com robert macneil talk about auti...  \n",
       "439095                        sterlingcolleg edu rhi html  \n",
       "426714  salarylist com compani port of oakland salari htm  "
      ]
     },
     "execution_count": 11,
     "metadata": {},
     "output_type": "execute_result"
    }
   ],
   "source": [
    "# View a sample of the data after joining the stemmed words\n",
    "learn_data.sample(10)"
   ]
  },
  {
   "cell_type": "code",
   "execution_count": 12,
   "metadata": {},
   "outputs": [],
   "source": [
    "# Establishing Model"
   ]
  },
  {
   "cell_type": "code",
   "execution_count": 13,
   "metadata": {},
   "outputs": [],
   "source": [
    "# Creating the CV object\n",
    "cv = CountVectorizer()"
   ]
  },
  {
   "cell_type": "code",
   "execution_count": 14,
   "metadata": {},
   "outputs": [],
   "source": [
    "# It will Transform all text which we had tokenized and stemmed earlier\n",
    "# https://github.com/shreyagopal/Phishing-Website-Detection-by-Machine-Learning-Techniques/blob/master/URL%20Feature%20Extraction.ipynb\n",
    "features = cv.fit_transform(learn_data.Text_sent) "
   ]
  },
  {
   "cell_type": "code",
   "execution_count": 15,
   "metadata": {},
   "outputs": [
    {
     "data": {
      "text/plain": [
       "array([[0, 0, 0, ..., 0, 0, 0],\n",
       "       [0, 0, 0, ..., 0, 0, 0],\n",
       "       [0, 0, 0, ..., 0, 0, 0],\n",
       "       [0, 0, 0, ..., 0, 0, 0],\n",
       "       [0, 0, 0, ..., 0, 0, 0]], dtype=int64)"
      ]
     },
     "execution_count": 15,
     "metadata": {},
     "output_type": "execute_result"
    }
   ],
   "source": [
    "# Converting Sparse Matrix into array [it will print ouot the transformed features]\n",
    "\n",
    "features[:5].toarray() "
   ]
  },
  {
   "cell_type": "code",
   "execution_count": 16,
   "metadata": {},
   "outputs": [],
   "source": [
    "# Splitting the data \n",
    "trainX, testX, trainY, testY = train_test_split(features, learn_data.Label)"
   ]
  },
  {
   "cell_type": "code",
   "execution_count": 17,
   "metadata": {},
   "outputs": [],
   "source": [
    "# Logistic Regression"
   ]
  },
  {
   "cell_type": "code",
   "execution_count": 18,
   "metadata": {},
   "outputs": [],
   "source": [
    "# Create an instance of logistic regression model.\n",
    "lr = LogisticRegression()"
   ]
  },
  {
   "cell_type": "code",
   "execution_count": 19,
   "metadata": {},
   "outputs": [
    {
     "name": "stderr",
     "output_type": "stream",
     "text": [
      "c:\\Users\\chath\\AppData\\Local\\Programs\\Python\\Python310\\lib\\site-packages\\sklearn\\linear_model\\_logistic.py:458: ConvergenceWarning: lbfgs failed to converge (status=1):\n",
      "STOP: TOTAL NO. of ITERATIONS REACHED LIMIT.\n",
      "\n",
      "Increase the number of iterations (max_iter) or scale the data as shown in:\n",
      "    https://scikit-learn.org/stable/modules/preprocessing.html\n",
      "Please also refer to the documentation for alternative solver options:\n",
      "    https://scikit-learn.org/stable/modules/linear_model.html#logistic-regression\n",
      "  n_iter_i = _check_optimize_result(\n"
     ]
    },
    {
     "data": {
      "text/html": [
       "<style>#sk-container-id-1 {color: black;background-color: white;}#sk-container-id-1 pre{padding: 0;}#sk-container-id-1 div.sk-toggleable {background-color: white;}#sk-container-id-1 label.sk-toggleable__label {cursor: pointer;display: block;width: 100%;margin-bottom: 0;padding: 0.3em;box-sizing: border-box;text-align: center;}#sk-container-id-1 label.sk-toggleable__label-arrow:before {content: \"▸\";float: left;margin-right: 0.25em;color: #696969;}#sk-container-id-1 label.sk-toggleable__label-arrow:hover:before {color: black;}#sk-container-id-1 div.sk-estimator:hover label.sk-toggleable__label-arrow:before {color: black;}#sk-container-id-1 div.sk-toggleable__content {max-height: 0;max-width: 0;overflow: hidden;text-align: left;background-color: #f0f8ff;}#sk-container-id-1 div.sk-toggleable__content pre {margin: 0.2em;color: black;border-radius: 0.25em;background-color: #f0f8ff;}#sk-container-id-1 input.sk-toggleable__control:checked~div.sk-toggleable__content {max-height: 200px;max-width: 100%;overflow: auto;}#sk-container-id-1 input.sk-toggleable__control:checked~label.sk-toggleable__label-arrow:before {content: \"▾\";}#sk-container-id-1 div.sk-estimator input.sk-toggleable__control:checked~label.sk-toggleable__label {background-color: #d4ebff;}#sk-container-id-1 div.sk-label input.sk-toggleable__control:checked~label.sk-toggleable__label {background-color: #d4ebff;}#sk-container-id-1 input.sk-hidden--visually {border: 0;clip: rect(1px 1px 1px 1px);clip: rect(1px, 1px, 1px, 1px);height: 1px;margin: -1px;overflow: hidden;padding: 0;position: absolute;width: 1px;}#sk-container-id-1 div.sk-estimator {font-family: monospace;background-color: #f0f8ff;border: 1px dotted black;border-radius: 0.25em;box-sizing: border-box;margin-bottom: 0.5em;}#sk-container-id-1 div.sk-estimator:hover {background-color: #d4ebff;}#sk-container-id-1 div.sk-parallel-item::after {content: \"\";width: 100%;border-bottom: 1px solid gray;flex-grow: 1;}#sk-container-id-1 div.sk-label:hover label.sk-toggleable__label {background-color: #d4ebff;}#sk-container-id-1 div.sk-serial::before {content: \"\";position: absolute;border-left: 1px solid gray;box-sizing: border-box;top: 0;bottom: 0;left: 50%;z-index: 0;}#sk-container-id-1 div.sk-serial {display: flex;flex-direction: column;align-items: center;background-color: white;padding-right: 0.2em;padding-left: 0.2em;position: relative;}#sk-container-id-1 div.sk-item {position: relative;z-index: 1;}#sk-container-id-1 div.sk-parallel {display: flex;align-items: stretch;justify-content: center;background-color: white;position: relative;}#sk-container-id-1 div.sk-item::before, #sk-container-id-1 div.sk-parallel-item::before {content: \"\";position: absolute;border-left: 1px solid gray;box-sizing: border-box;top: 0;bottom: 0;left: 50%;z-index: -1;}#sk-container-id-1 div.sk-parallel-item {display: flex;flex-direction: column;z-index: 1;position: relative;background-color: white;}#sk-container-id-1 div.sk-parallel-item:first-child::after {align-self: flex-end;width: 50%;}#sk-container-id-1 div.sk-parallel-item:last-child::after {align-self: flex-start;width: 50%;}#sk-container-id-1 div.sk-parallel-item:only-child::after {width: 0;}#sk-container-id-1 div.sk-dashed-wrapped {border: 1px dashed gray;margin: 0 0.4em 0.5em 0.4em;box-sizing: border-box;padding-bottom: 0.4em;background-color: white;}#sk-container-id-1 div.sk-label label {font-family: monospace;font-weight: bold;display: inline-block;line-height: 1.2em;}#sk-container-id-1 div.sk-label-container {text-align: center;}#sk-container-id-1 div.sk-container {/* jupyter's `normalize.less` sets `[hidden] { display: none; }` but bootstrap.min.css set `[hidden] { display: none !important; }` so we also need the `!important` here to be able to override the default hidden behavior on the sphinx rendered scikit-learn.org. See: https://github.com/scikit-learn/scikit-learn/issues/21755 */display: inline-block !important;position: relative;}#sk-container-id-1 div.sk-text-repr-fallback {display: none;}</style><div id=\"sk-container-id-1\" class=\"sk-top-container\"><div class=\"sk-text-repr-fallback\"><pre>LogisticRegression()</pre><b>In a Jupyter environment, please rerun this cell to show the HTML representation or trust the notebook. <br />On GitHub, the HTML representation is unable to render, please try loading this page with nbviewer.org.</b></div><div class=\"sk-container\" hidden><div class=\"sk-item\"><div class=\"sk-estimator sk-toggleable\"><input class=\"sk-toggleable__control sk-hidden--visually\" id=\"sk-estimator-id-1\" type=\"checkbox\" checked><label for=\"sk-estimator-id-1\" class=\"sk-toggleable__label sk-toggleable__label-arrow\">LogisticRegression</label><div class=\"sk-toggleable__content\"><pre>LogisticRegression()</pre></div></div></div></div></div>"
      ],
      "text/plain": [
       "LogisticRegression()"
      ]
     },
     "execution_count": 19,
     "metadata": {},
     "output_type": "execute_result"
    }
   ],
   "source": [
    "# Fit the logistic regression model on the training set.\n",
    "lr.fit(trainX, trainY)"
   ]
  },
  {
   "cell_type": "code",
   "execution_count": 20,
   "metadata": {},
   "outputs": [
    {
     "data": {
      "text/plain": [
       "0.9633165133940599"
      ]
     },
     "execution_count": 20,
     "metadata": {},
     "output_type": "execute_result"
    }
   ],
   "source": [
    "# Get the logistic regression model's accuracy score\n",
    "lr.score(testX,testY)"
   ]
  },
  {
   "cell_type": "code",
   "execution_count": 21,
   "metadata": {},
   "outputs": [],
   "source": [
    "# Add the accuracy score to a dictionary\n",
    "Scores_lr = {}\n",
    "Scores_lr['Logistic Regression'] = np.round(lr.score(testX, testY), 2)"
   ]
  },
  {
   "cell_type": "code",
   "execution_count": 22,
   "metadata": {},
   "outputs": [
    {
     "name": "stdout",
     "output_type": "stream",
     "text": [
      "Training Accuracy Achieved : 0.9777189333242721\n",
      "Testing Accuracy Achieved : 0.9633165133940599\n",
      "\n",
      "Printing the CLASSIFICATION REPORT\n",
      "\n",
      "              precision    recall  f1-score   support\n",
      "\n",
      "         Bad       0.90      0.97      0.93     36551\n",
      "        Good       0.99      0.96      0.97    100786\n",
      "\n",
      "    accuracy                           0.96    137337\n",
      "   macro avg       0.95      0.96      0.95    137337\n",
      "weighted avg       0.96      0.96      0.96    137337\n",
      "\n",
      "\n",
      "Printing the CONFUSION MATRIX\n"
     ]
    },
    {
     "data": {
      "text/plain": [
       "<AxesSubplot:>"
      ]
     },
     "execution_count": 22,
     "metadata": {},
     "output_type": "execute_result"
    },
    {
     "data": {
      "image/png": "[encoded data removed]",
      "text/plain": [
       "<Figure size 600x400 with 2 Axes>"
      ]
     },
     "metadata": {},
     "output_type": "display_data"
    }
   ],
   "source": [
    "# Print the training and testing accuracy and the classification report\n",
    "print('Training Accuracy Achieved :',lr.score(trainX,trainY))\n",
    "print('Testing Accuracy Achieved :',lr.score(testX,testY))\n",
    "con_mat = pd.DataFrame(confusion_matrix(lr.predict(testX), testY),\n",
    "            columns = ['Prediction:Bad', 'Prediction:Good'],\n",
    "            index = ['Actually:Bad', 'Actually:Good'])\n",
    "print('\\nPrinting the CLASSIFICATION REPORT\\n')\n",
    "print(classification_report(lr.predict(testX), testY,\n",
    "                            target_names =['Bad','Good']))\n",
    "print('\\nPrinting the CONFUSION MATRIX')\n",
    "plt.figure(figsize= (6,4))\n",
    "sns.heatmap(con_mat, annot = True,fmt='d',cmap=\"YlGnBu\")"
   ]
  },
  {
   "cell_type": "code",
   "execution_count": 23,
   "metadata": {},
   "outputs": [],
   "source": [
    "# Rain Forest Algorithm"
   ]
  },
  {
   "cell_type": "code",
   "execution_count": 24,
   "metadata": {},
   "outputs": [],
   "source": [
    "# Random Forest ~ rf\n",
    "# rf = RandomForestClassifier()"
   ]
  },
  {
   "cell_type": "code",
   "execution_count": 25,
   "metadata": {},
   "outputs": [],
   "source": [
    "# rf.fit(trainX, trainY)\n"
   ]
  },
  {
   "cell_type": "code",
   "execution_count": 26,
   "metadata": {},
   "outputs": [],
   "source": [
    "# rf.score(testX, testY)"
   ]
  },
  {
   "cell_type": "code",
   "execution_count": 27,
   "metadata": {},
   "outputs": [],
   "source": [
    "# Making sklearn pipeline using Logistic Regression\n",
    "pipeline_ls = make_pipeline(CountVectorizer(tokenizer = RegexpTokenizer(r'[A-Za-z]+').tokenize,stop_words='english'), LogisticRegression())"
   ]
  },
  {
   "cell_type": "code",
   "execution_count": 28,
   "metadata": {},
   "outputs": [
    {
     "name": "stderr",
     "output_type": "stream",
     "text": [
      "c:\\Users\\chath\\AppData\\Local\\Programs\\Python\\Python310\\lib\\site-packages\\sklearn\\feature_extraction\\text.py:528: UserWarning: The parameter 'token_pattern' will not be used since 'tokenizer' is not None'\n",
      "  warnings.warn(\n"
     ]
    },
    {
     "name": "stderr",
     "output_type": "stream",
     "text": [
      "c:\\Users\\chath\\AppData\\Local\\Programs\\Python\\Python310\\lib\\site-packages\\sklearn\\linear_model\\_logistic.py:458: ConvergenceWarning: lbfgs failed to converge (status=1):\n",
      "STOP: TOTAL NO. of ITERATIONS REACHED LIMIT.\n",
      "\n",
      "Increase the number of iterations (max_iter) or scale the data as shown in:\n",
      "    https://scikit-learn.org/stable/modules/preprocessing.html\n",
      "Please also refer to the documentation for alternative solver options:\n",
      "    https://scikit-learn.org/stable/modules/linear_model.html#logistic-regression\n",
      "  n_iter_i = _check_optimize_result(\n"
     ]
    },
    {
     "data": {
      "text/html": [
       "<style>#sk-container-id-2 {color: black;background-color: white;}#sk-container-id-2 pre{padding: 0;}#sk-container-id-2 div.sk-toggleable {background-color: white;}#sk-container-id-2 label.sk-toggleable__label {cursor: pointer;display: block;width: 100%;margin-bottom: 0;padding: 0.3em;box-sizing: border-box;text-align: center;}#sk-container-id-2 label.sk-toggleable__label-arrow:before {content: \"▸\";float: left;margin-right: 0.25em;color: #696969;}#sk-container-id-2 label.sk-toggleable__label-arrow:hover:before {color: black;}#sk-container-id-2 div.sk-estimator:hover label.sk-toggleable__label-arrow:before {color: black;}#sk-container-id-2 div.sk-toggleable__content {max-height: 0;max-width: 0;overflow: hidden;text-align: left;background-color: #f0f8ff;}#sk-container-id-2 div.sk-toggleable__content pre {margin: 0.2em;color: black;border-radius: 0.25em;background-color: #f0f8ff;}#sk-container-id-2 input.sk-toggleable__control:checked~div.sk-toggleable__content {max-height: 200px;max-width: 100%;overflow: auto;}#sk-container-id-2 input.sk-toggleable__control:checked~label.sk-toggleable__label-arrow:before {content: \"▾\";}#sk-container-id-2 div.sk-estimator input.sk-toggleable__control:checked~label.sk-toggleable__label {background-color: #d4ebff;}#sk-container-id-2 div.sk-label input.sk-toggleable__control:checked~label.sk-toggleable__label {background-color: #d4ebff;}#sk-container-id-2 input.sk-hidden--visually {border: 0;clip: rect(1px 1px 1px 1px);clip: rect(1px, 1px, 1px, 1px);height: 1px;margin: -1px;overflow: hidden;padding: 0;position: absolute;width: 1px;}#sk-container-id-2 div.sk-estimator {font-family: monospace;background-color: #f0f8ff;border: 1px dotted black;border-radius: 0.25em;box-sizing: border-box;margin-bottom: 0.5em;}#sk-container-id-2 div.sk-estimator:hover {background-color: #d4ebff;}#sk-container-id-2 div.sk-parallel-item::after {content: \"\";width: 100%;border-bottom: 1px solid gray;flex-grow: 1;}#sk-container-id-2 div.sk-label:hover label.sk-toggleable__label {background-color: #d4ebff;}#sk-container-id-2 div.sk-serial::before {content: \"\";position: absolute;border-left: 1px solid gray;box-sizing: border-box;top: 0;bottom: 0;left: 50%;z-index: 0;}#sk-container-id-2 div.sk-serial {display: flex;flex-direction: column;align-items: center;background-color: white;padding-right: 0.2em;padding-left: 0.2em;position: relative;}#sk-container-id-2 div.sk-item {position: relative;z-index: 1;}#sk-container-id-2 div.sk-parallel {display: flex;align-items: stretch;justify-content: center;background-color: white;position: relative;}#sk-container-id-2 div.sk-item::before, #sk-container-id-2 div.sk-parallel-item::before {content: \"\";position: absolute;border-left: 1px solid gray;box-sizing: border-box;top: 0;bottom: 0;left: 50%;z-index: -1;}#sk-container-id-2 div.sk-parallel-item {display: flex;flex-direction: column;z-index: 1;position: relative;background-color: white;}#sk-container-id-2 div.sk-parallel-item:first-child::after {align-self: flex-end;width: 50%;}#sk-container-id-2 div.sk-parallel-item:last-child::after {align-self: flex-start;width: 50%;}#sk-container-id-2 div.sk-parallel-item:only-child::after {width: 0;}#sk-container-id-2 div.sk-dashed-wrapped {border: 1px dashed gray;margin: 0 0.4em 0.5em 0.4em;box-sizing: border-box;padding-bottom: 0.4em;background-color: white;}#sk-container-id-2 div.sk-label label {font-family: monospace;font-weight: bold;display: inline-block;line-height: 1.2em;}#sk-container-id-2 div.sk-label-container {text-align: center;}#sk-container-id-2 div.sk-container {/* jupyter's `normalize.less` sets `[hidden] { display: none; }` but bootstrap.min.css set `[hidden] { display: none !important; }` so we also need the `!important` here to be able to override the default hidden behavior on the sphinx rendered scikit-learn.org. See: https://github.com/scikit-learn/scikit-learn/issues/21755 */display: inline-block !important;position: relative;}#sk-container-id-2 div.sk-text-repr-fallback {display: none;}</style><div id=\"sk-container-id-2\" class=\"sk-top-container\"><div class=\"sk-text-repr-fallback\"><pre>Pipeline(steps=[(&#x27;countvectorizer&#x27;,\n",
       "                 CountVectorizer(stop_words=&#x27;english&#x27;,\n",
       "                                 tokenizer=&lt;bound method RegexpTokenizer.tokenize of RegexpTokenizer(pattern=&#x27;[A-Za-z]+&#x27;, gaps=False, discard_empty=True, flags=re.UNICODE|re.MULTILINE|re.DOTALL)&gt;)),\n",
       "                (&#x27;logisticregression&#x27;, LogisticRegression())])</pre><b>In a Jupyter environment, please rerun this cell to show the HTML representation or trust the notebook. <br />On GitHub, the HTML representation is unable to render, please try loading this page with nbviewer.org.</b></div><div class=\"sk-container\" hidden><div class=\"sk-item sk-dashed-wrapped\"><div class=\"sk-label-container\"><div class=\"sk-label sk-toggleable\"><input class=\"sk-toggleable__control sk-hidden--visually\" id=\"sk-estimator-id-2\" type=\"checkbox\" ><label for=\"sk-estimator-id-2\" class=\"sk-toggleable__label sk-toggleable__label-arrow\">Pipeline</label><div class=\"sk-toggleable__content\"><pre>Pipeline(steps=[(&#x27;countvectorizer&#x27;,\n",
       "                 CountVectorizer(stop_words=&#x27;english&#x27;,\n",
       "                                 tokenizer=&lt;bound method RegexpTokenizer.tokenize of RegexpTokenizer(pattern=&#x27;[A-Za-z]+&#x27;, gaps=False, discard_empty=True, flags=re.UNICODE|re.MULTILINE|re.DOTALL)&gt;)),\n",
       "                (&#x27;logisticregression&#x27;, LogisticRegression())])</pre></div></div></div><div class=\"sk-serial\"><div class=\"sk-item\"><div class=\"sk-estimator sk-toggleable\"><input class=\"sk-toggleable__control sk-hidden--visually\" id=\"sk-estimator-id-3\" type=\"checkbox\" ><label for=\"sk-estimator-id-3\" class=\"sk-toggleable__label sk-toggleable__label-arrow\">CountVectorizer</label><div class=\"sk-toggleable__content\"><pre>CountVectorizer(stop_words=&#x27;english&#x27;,\n",
       "                tokenizer=&lt;bound method RegexpTokenizer.tokenize of RegexpTokenizer(pattern=&#x27;[A-Za-z]+&#x27;, gaps=False, discard_empty=True, flags=re.UNICODE|re.MULTILINE|re.DOTALL)&gt;)</pre></div></div></div><div class=\"sk-item\"><div class=\"sk-estimator sk-toggleable\"><input class=\"sk-toggleable__control sk-hidden--visually\" id=\"sk-estimator-id-4\" type=\"checkbox\" ><label for=\"sk-estimator-id-4\" class=\"sk-toggleable__label sk-toggleable__label-arrow\">LogisticRegression</label><div class=\"sk-toggleable__content\"><pre>LogisticRegression()</pre></div></div></div></div></div></div></div>"
      ],
      "text/plain": [
       "Pipeline(steps=[('countvectorizer',\n",
       "                 CountVectorizer(stop_words='english',\n",
       "                                 tokenizer=<bound method RegexpTokenizer.tokenize of RegexpTokenizer(pattern='[A-Za-z]+', gaps=False, discard_empty=True, flags=re.UNICODE|re.MULTILINE|re.DOTALL)>)),\n",
       "                ('logisticregression', LogisticRegression())])"
      ]
     },
     "execution_count": 28,
     "metadata": {},
     "output_type": "execute_result"
    }
   ],
   "source": [
    "# Split the data into training and testing sets and fit the model\n",
    "trainX, testX, trainY, testY = train_test_split(learn_data.URL, learn_data.Label)\n",
    "pipeline_ls.fit(trainX,trainY)"
   ]
  },
  {
   "cell_type": "code",
   "execution_count": 29,
   "metadata": {},
   "outputs": [
    {
     "data": {
      "text/plain": [
       "0.9662144942732112"
      ]
     },
     "execution_count": 29,
     "metadata": {},
     "output_type": "execute_result"
    }
   ],
   "source": [
    "# Get the accuracy score of the model\n",
    "pipeline_ls.score(testX,testY) "
   ]
  },
  {
   "cell_type": "code",
   "execution_count": 30,
   "metadata": {},
   "outputs": [
    {
     "name": "stdout",
     "output_type": "stream",
     "text": [
      "Training Accuracy Achieved : 0.9805635313791689\n",
      "Testing Accuracy Achieved: 0.9662144942732112\n",
      "\n",
      "Printing the CLASSIFICATION REPORT\n",
      "\n",
      "              precision    recall  f1-score   support\n",
      "\n",
      "         Bad       0.91      0.97      0.94     36767\n",
      "        Good       0.99      0.97      0.98    100570\n",
      "\n",
      "    accuracy                           0.97    137337\n",
      "   macro avg       0.95      0.97      0.96    137337\n",
      "weighted avg       0.97      0.97      0.97    137337\n",
      "\n",
      "\n",
      "Printing the CONFUSION MATRIX\n"
     ]
    },
    {
     "data": {
      "text/plain": [
       "<AxesSubplot:>"
      ]
     },
     "execution_count": 30,
     "metadata": {},
     "output_type": "execute_result"
    },
    {
     "data": {
      "image/png": "[encoded data removed]",
      "text/plain": [
       "<Figure size 600x400 with 2 Axes>"
      ]
     },
     "metadata": {},
     "output_type": "display_data"
    }
   ],
   "source": [
    "# Printing the training and testing accuracy scores\n",
    "print('Training Accuracy Achieved :',pipeline_ls.score(trainX,trainY))\n",
    "print('Testing Accuracy Achieved:',pipeline_ls.score(testX,testY))\n",
    "\n",
    "# Creating a confusion matrix and printing a classification report\n",
    "con_mat = pd.DataFrame(confusion_matrix(pipeline_ls.predict(testX), testY),\n",
    "            columns = ['Prediction:Bad', 'Prediction:Good'],\n",
    "            index = ['Actually:Bad', 'Actually:Good'])\n",
    "print('\\nPrinting the CLASSIFICATION REPORT\\n')\n",
    "print(classification_report(pipeline_ls.predict(testX), testY,\n",
    "                            target_names =['Bad','Good']))\n",
    "print('\\nPrinting the CONFUSION MATRIX')\n",
    "plt.figure(figsize= (6,4))\n",
    "sns.heatmap(con_mat, annot = True,fmt='d',cmap=\"YlGnBu\")"
   ]
  },
  {
   "cell_type": "code",
   "execution_count": 31,
   "metadata": {},
   "outputs": [
    {
     "data": {
      "image/png": "[encoded data removed]",
      "text/plain": [
       "<Figure size 800x600 with 1 Axes>"
      ]
     },
     "metadata": {},
     "output_type": "display_data"
    }
   ],
   "source": [
    "train_accuracy = pipeline_ls.score(trainX,trainY)\n",
    "test_accuracy = pipeline_ls.score(testX,testY) \n",
    "#plt.figure(figsize=(8, 6))\n",
    "#plt.plot([0, 1], [train_accuracy, train_accuracy], linestyle='--', color='blue', label='Training Accuracy')\n",
    "#plt.plot([0, 1], [test_accuracy, test_accuracy], linestyle='-', color='red', label='Test Accuracy')\n",
    "#plt.title('Training and Test Accuracy')\n",
    "#plt.xlabel('Epochs')\n",
    "#plt.ylabel('Accuracy')\n",
    "#plt.legend()\n",
    "#plt.show()\n",
    "\n",
    "\n",
    "\n",
    "plt.figure(figsize=(8, 6))\n",
    "plt.plot([0,1], [train_accuracy, test_accuracy], marker='o')\n",
    "plt.plot([0,1], [train_accuracy, test_accuracy], linestyle='--')\n",
    "plt.title('Training and Test Accuracy')\n",
    "plt.xlabel('Epochs')\n",
    "plt.ylabel('Accuracy')\n",
    "plt.legend(['Training Accuracy', 'Test Accuracy'])\n",
    "plt.grid(True)\n",
    "plt.show()"
   ]
  },
  {
   "cell_type": "code",
   "execution_count": 32,
   "metadata": {},
   "outputs": [],
   "source": [
    "# Importing Pickle library to dump our entire model. This will be later used with our front end application. \n",
    "import pickle"
   ]
  },
  {
   "cell_type": "code",
   "execution_count": 33,
   "metadata": {},
   "outputs": [],
   "source": [
    "# Saving the model using pickle\n",
    "pickle.dump(pipeline_ls,open('new_phishing.pkl','wb'))"
   ]
  },
  {
   "cell_type": "code",
   "execution_count": 34,
   "metadata": {},
   "outputs": [
    {
     "name": "stdout",
     "output_type": "stream",
     "text": [
      "0.9662144942732112\n"
     ]
    }
   ],
   "source": [
    "\n",
    "# Loading the saved model and printing its score on the test data\n",
    "load_model = pickle.load(open('new_phishing.pkl', 'rb'))\n",
    "resultant_score = load_model.score(testX,testY)\n",
    "print(resultant_score)"
   ]
  }
 ],
 "metadata": {
  "kernelspec": {
   "display_name": "Python 3",
   "language": "python",
   "name": "python3"
  },
  "language_info": {
   "codemirror_mode": {
    "name": "ipython",
    "version": 3
   },
   "file_extension": ".py",
   "mimetype": "text/x-python",
   "name": "python",
   "nbconvert_exporter": "python",
   "pygments_lexer": "ipython3",
   "version": "3.10.5"
  },
  "orig_nbformat": 4
 },
 "nbformat": 4,
 "nbformat_minor": 2
}
